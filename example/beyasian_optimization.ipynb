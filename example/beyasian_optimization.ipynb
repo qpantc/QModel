{
 "cells": [
  {
   "cell_type": "code",
   "execution_count": 1,
   "metadata": {},
   "outputs": [],
   "source": [
    "# 线性回归的目标:z=(<x,w> - y)^2 最小\n",
    "%matplotlib inline\n",
    "import random\n",
    "import torch\n",
    "import pandas as pd\n",
    "import math\n",
    "from pymodel.qmodel import *"
   ]
  },
  {
   "cell_type": "code",
   "execution_count": 2,
   "metadata": {},
   "outputs": [
    {
     "name": "stdout",
     "output_type": "stream",
     "text": [
      "相对湿度为: 0.5762937775804863 %\n",
      "蒸汽压差为: 3.067421661187285 kPa\n"
     ]
    }
   ],
   "source": [
    "# 示例:温度为25°C,水的浓度为10g/m^3,气压为101.325kPa(对应标准大气压)\n",
    "T = 25  # °C\n",
    "H2O_concentration = 10  # g/m^3\n",
    "P = 101.325  # kPa\n",
    "\n",
    "RH = relative_humidity(T, H2O_concentration, P)\n",
    "print(\"相对湿度为:\", RH, \"%\")\n",
    "\n",
    "VPD = vapor_pressure_deficit(T, H2O_concentration, P)\n",
    "print(\"蒸汽压差为:\", VPD, \"kPa\")"
   ]
  },
  {
   "cell_type": "code",
   "execution_count": 3,
   "metadata": {},
   "outputs": [],
   "source": [
    "observation_df = pd.read_csv('./data/A_ci.csv')\n",
    "observation_df = observation_df[observation_df['Photo'] > 0]\n",
    "observation_df['RH'] = relative_humidity(observation_df['Tair'],observation_df['H2OS'],observation_df['Press'])\n",
    "\n",
    "Photo = observation_df['Photo'].tolist()\n",
    "Tleaf = observation_df['Tleaf'].tolist()\n",
    "CO2S = observation_df['CO2S'].tolist()\n",
    "RH_S = (observation_df['RH_S']/100).tolist()\n",
    "PARi = observation_df['PARi'].tolist()\n",
    "Press = observation_df['Press'].tolist()\n",
    "\n",
    "labels = torch.tensor(Photo)\n",
    "features = torch.tensor([Tleaf,CO2S,RH_S,PARi,Press]).T\n"
   ]
  },
  {
   "cell_type": "code",
   "execution_count": 5,
   "metadata": {},
   "outputs": [
    {
     "data": {
      "text/plain": [
       "3.354701840353673"
      ]
     },
     "execution_count": 5,
     "metadata": {},
     "output_type": "execute_result"
    }
   ],
   "source": [
    "max(observation_df['RH'])"
   ]
  },
  {
   "cell_type": "code",
   "execution_count": null,
   "metadata": {},
   "outputs": [
    {
     "name": "stdout",
     "output_type": "stream",
     "text": [
      "tensor([[3.1633e+01, 5.9240e+02, 7.7507e-01, 1.2997e+03, 1.0101e+02],\n",
      "        [3.2282e+01, 1.9679e+02, 5.4738e-01, 4.9956e+02, 9.9582e+01],\n",
      "        [3.2342e+01, 1.4857e+03, 7.7074e-01, 1.3011e+03, 9.9820e+01],\n",
      "        [3.1649e+01, 1.4839e+03, 7.5779e-01, 1.2996e+03, 1.0016e+02],\n",
      "        [3.0708e+01, 3.8543e+02, 7.4098e-01, 1.2990e+03, 1.0093e+02],\n",
      "        [2.9673e+01, 1.1892e+03, 6.7103e-01, 5.0013e+02, 1.0111e+02],\n",
      "        [3.1586e+01, 1.9904e+02, 7.2917e-01, 1.3003e+03, 1.0007e+02],\n",
      "        [3.3261e+01, 3.9492e+02, 7.6001e-01, 1.2993e+03, 1.0141e+02],\n",
      "        [3.1212e+01, 5.9619e+02, 7.4939e-01, 1.2990e+03, 1.0064e+02],\n",
      "        [2.9259e+01, 9.8691e+02, 6.9033e-01, 4.9930e+02, 1.0016e+02]]) \n",
      " tensor([ 5.5442,  1.6842, 11.0676, 13.4320,  3.6117,  8.0323,  0.3271,  4.7600,\n",
      "         3.3504, 10.2515])\n"
     ]
    }
   ],
   "source": [
    "# 读取数据集\n",
    "\n",
    "# 用一个生成器来产生小批量的batch\n",
    "def data_iter(batch_size, features, labels):\n",
    "    num_examples = len(features)\n",
    "    indices = list(range(num_examples))\n",
    "    # 这些样本是随机读取的,没有特定的顺序\n",
    "    random.shuffle(indices)\n",
    "    for i in range(0, num_examples, batch_size):\n",
    "        batch_indices = torch.tensor(\n",
    "            indices[i: min(i + batch_size, num_examples)])\n",
    "        yield features[batch_indices], labels[batch_indices]\n",
    "        \n",
    "batch_size = 10\n",
    "\n",
    "for X, y in data_iter(batch_size, features, labels):\n",
    "    print(X, '\\n', y)\n",
    "    break"
   ]
  },
  {
   "cell_type": "code",
   "execution_count": null,
   "metadata": {},
   "outputs": [],
   "source": [
    "# 定义模型\n",
    "leaf = Leaf()\n",
    "# 定义模型和初始化参数\n",
    "leaf = Leaf()\n",
    "initial_params = torch.tensor([0.11, 0.8, 0.001])\n",
    "\n",
    "\n",
    "def fit_qmodel(X, w):  #@save\n",
    "    \"\"\"线性回归模型\"\"\"\n",
    "    result_list = []\n",
    "    \n",
    "    for i in range(0,len(X)):\n",
    "        An_dict = Q_model(leaf = leaf,\n",
    "                        tleaf= X[i][0],co2 = X[i][1],RH = X[i][2],PAR = X[i][3],patm = X[i][4],\n",
    "                        cost = w)\n",
    "        result_list.append(An_dict['An'])\n",
    "\n",
    "    return torch.tensor(result_list)\n",
    "\n",
    "# 定义模型和初始化参数\n",
    "leaf = Leaf()\n",
    "initial_params = torch.tensor([0.11, 0.8, 0.001])\n",
    "\n",
    "# 定义损失函数\n",
    "def loss_fn(y_hat, y):\n",
    "    return torch.mean((y_hat - y) ** 2)"
   ]
  },
  {
   "cell_type": "code",
   "execution_count": null,
   "metadata": {},
   "outputs": [
    {
     "data": {
      "text/plain": [
       "[tensor([0.1093, 0.7897, 0.0500]), 41.18855285644531]"
      ]
     },
     "execution_count": 25,
     "metadata": {},
     "output_type": "execute_result"
    }
   ],
   "source": [
    "# 定义蒙特卡罗采样次数\n",
    "num_samples = 10\n",
    "\n",
    "lr = 0.03\n",
    "batch_size = 100\n",
    "\n",
    "# 初始化参数估计列表\n",
    "parameter_estimates = []\n",
    "\n",
    "initial_params = torch.tensor([0.11, 0.8, 0.001])\n",
    "best_loss = 1000\n",
    "best_params = torch.tensor([0.11, 0.8, 0.001])\n",
    "i = 0\n",
    "# 进行蒙特卡罗采样和参数估计\n",
    "while i < 1000:\n",
    "    # 从参数空间中随机采样一组参数值\n",
    "    sampled_params = initial_params +  torch.randn_like(initial_params) * lr\n",
    "    if sum(sampled_params>0)==3:        \n",
    "        for X, y in data_iter(batch_size, features, labels):\n",
    "            i+=1\n",
    "            # 计算模型的预测输出\n",
    "            y_hat = fit_qmodel(X, sampled_params)\n",
    "            \n",
    "            # 计算损失函数值\n",
    "            loss = loss_fn(y_hat, y)\n",
    "            if best_loss > loss.item():\n",
    "                best_loss = loss.item()\n",
    "                best_params = sampled_params\n",
    "            # 将参数值和损失函数值添加到列表中\n",
    "            parameter_estimates.append((sampled_params, loss.item()))\n",
    "            \n",
    "            break\n",
    "\n",
    "# 计算参数的期望值\n",
    "[best_params,best_loss]\n"
   ]
  },
  {
   "cell_type": "code",
   "execution_count": null,
   "metadata": {},
   "outputs": [
    {
     "data": {
      "text/plain": [
       "37.830787658691406"
      ]
     },
     "execution_count": 23,
     "metadata": {},
     "output_type": "execute_result"
    }
   ],
   "source": [
    "initial_loss "
   ]
  },
  {
   "cell_type": "code",
   "execution_count": null,
   "metadata": {},
   "outputs": [
    {
     "data": {
      "text/plain": [
       "tensor([0, 0, 0, 0, 0, 0, 0, 0, 0, 0, 0, 0, 0, 0, 0, 0, 0, 0, 0, 0, 0, 0, 0, 0,\n",
       "        0, 0, 0, 0, 0, 0, 0, 0, 0, 0, 0, 0, 0, 0, 0, 0, 0, 0, 0, 0, 0, 0, 0, 0,\n",
       "        0, 0, 0, 0, 0, 0, 0, 0, 0, 0, 0, 0, 0, 0, 0, 0, 0, 0, 0, 0, 0, 0, 0, 0,\n",
       "        0, 0, 0, 0, 0, 0, 0, 0, 0, 0, 0, 0, 0, 0, 0, 0, 0, 0, 0, 0, 0, 0, 0, 0,\n",
       "        0, 0, 0, 0])"
      ]
     },
     "execution_count": 20,
     "metadata": {},
     "output_type": "execute_result"
    }
   ],
   "source": [
    "fit_qmodel(X, initial_params)"
   ]
  }
 ],
 "metadata": {
  "kernelspec": {
   "display_name": "d2l",
   "language": "python",
   "name": "python3"
  },
  "language_info": {
   "codemirror_mode": {
    "name": "ipython",
    "version": 3
   },
   "file_extension": ".py",
   "mimetype": "text/x-python",
   "name": "python",
   "nbconvert_exporter": "python",
   "pygments_lexer": "ipython3",
   "version": "3.9.18"
  }
 },
 "nbformat": 4,
 "nbformat_minor": 2
}
